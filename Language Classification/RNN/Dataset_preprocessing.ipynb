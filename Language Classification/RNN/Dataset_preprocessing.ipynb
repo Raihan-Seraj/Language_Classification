{
 "cells": [
  {
   "cell_type": "code",
   "execution_count": 1,
   "metadata": {},
   "outputs": [
    {
     "name": "stderr",
     "output_type": "stream",
     "text": [
      "Using TensorFlow backend.\n"
     ]
    }
   ],
   "source": [
    "import numpy as np\n",
    "import csv\n",
    "import re\n",
    "from numpy import genfromtxt\n",
    "\n",
    "from sklearn.feature_extraction.text import TfidfVectorizer\n",
    "from sklearn.decomposition import TruncatedSVD\n",
    "import keras\n",
    "from keras.datasets import reuters\n",
    "from keras.models import Sequential\n",
    "from keras.layers import Dense, Dropout, Activation\n",
    "from keras.preprocessing.text import Tokenizer\n",
    "from keras import utils as np_utils\n",
    "import pandas as pd\n",
    "from __future__ import unicode_literals, print_function, division\n",
    "from io import open\n",
    "import glob\n",
    "from __future__ import unicode_literals, print_function, division\n",
    "from io import open\n",
    "import glob\n",
    "\n",
    "import unicodedata\n",
    "import string\n",
    "import torch\n"
   ]
  },
  {
   "cell_type": "markdown",
   "metadata": {},
   "source": [
    "## Preprocessing the data"
   ]
  },
  {
   "cell_type": "code",
   "execution_count": 2,
   "metadata": {},
   "outputs": [],
   "source": [
    "#Clean the data and store it in a list \n",
    "data_x=[]\n",
    "\n",
    "reader_x=csv.reader(open('dataset/kaggle_set.csv', newline=''), delimiter=',')\n",
    "next(reader_x,None) #skip header\n",
    "\n",
    "#re_httpremove=re.compile(r'http\\S+')##regex to remove hyperlinks\n",
    "#e_httpremove=re.compile(r'^https?:\\/\\/.*[\\r\\n]*')\n",
    "#re_punctuation_remove=re.compile(r'[^\\w]' )##regex to remove special characters\n",
    "#re_number_remover=re.compile(r'\\b\\d+(?:\\.\\d+)?\\s+')\n",
    "# re_emoji_remover= re.compile(u'['\n",
    "#     u'\\U0001F300-\\U0001F5FF'\n",
    "#     u'\\U0001F600-\\U0001F64F'\n",
    "#     u'\\U0001F680-\\U0001F6FF'\n",
    "#     u'\\u2600-\\u26FF\\u2700-\\u27BF]+', \n",
    "#     re.UNICODE)\n",
    "#re_underscore_remover=re.compile(r'\\w' )\n",
    "\n",
    "for row in reader_x:\n",
    "    clean_text = re.sub(r\"http\\S+\", \"\",row[1])\n",
    "    #print(row[1])\n",
    "    #clean_text=re_punctuation_remove.sub('',row[1])\n",
    "    #clean_text=re_number_remover.sub('',row[1])\n",
    "    #clean_text=re_emoji_remover.sub('',row[1])\n",
    "   # clean_text=re_underscore_remover.sub('',row[1])\n",
    "\n",
    "    data_x.append(row[1])\n",
    "reader_y=genfromtxt('dataset/train_set_y.csv',delimiter=',')\n",
    "reader_y=reader_y[1:,1]\n",
    "\n",
    "training_x=data_x\n",
    "training_y=reader_y\n",
    "\n",
    "#saving individual classes in separate text\n",
    "for i in range(len(training_x)) :\n",
    "    if  len(training_x[i])>1:\n",
    "       \n",
    "        if training_y[i]==0:\n",
    "\n",
    "            thefile_slovak = open('langdata/Slovak.txt','a')\n",
    "\n",
    "            thefile_slovak.write(\"%s\\n\" % training_x[i])\n",
    "\n",
    "        if training_y[i]==1:\n",
    "\n",
    "            thefile_french = open('langdata/French.txt','a')\n",
    "            thefile_french.write(\"%s\\n\" % training_x[i])\n",
    "\n",
    "        if training_y[i]==2:\n",
    "\n",
    "            thefile_spanish = open('langdata/Spanish.txt','a')\n",
    "            thefile_spanish.write(\"%s\\n\" % training_x[i])\n",
    "\n",
    "        if training_y[i]==3:\n",
    "            thefile_german = open('langdata/German.txt','a')\n",
    "            thefile_german.write(\"%s\\n\" % training_x[i])\n",
    "\n",
    "        if training_y[i]==4:\n",
    "            thefile_polish = open('langdata/Polish.txt', 'a')\n",
    "            thefile_polish.write(\"%s\\n\" % training_x[i])\n",
    "\n"
   ]
  },
  {
   "cell_type": "code",
   "execution_count": 3,
   "metadata": {
    "collapsed": true
   },
   "outputs": [],
   "source": [
    "#def cross_validation(x_data,y_data,fold=3):\n",
    "#print(len(training_x[3])   \n",
    "    "
   ]
  }
 ],
 "metadata": {
  "kernelspec": {
   "display_name": "Python 3",
   "language": "python",
   "name": "python3"
  },
  "language_info": {
   "codemirror_mode": {
    "name": "ipython",
    "version": 3
   },
   "file_extension": ".py",
   "mimetype": "text/x-python",
   "name": "python",
   "nbconvert_exporter": "python",
   "pygments_lexer": "ipython3",
   "version": "3.5.2"
  }
 },
 "nbformat": 4,
 "nbformat_minor": 2
}
